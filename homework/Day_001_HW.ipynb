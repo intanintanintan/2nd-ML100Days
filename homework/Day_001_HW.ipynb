{
 "cells": [
  {
   "cell_type": "markdown",
   "metadata": {},
   "source": [
    "# Day_001_HW"
   ]
  },
  {
   "cell_type": "markdown",
   "metadata": {},
   "source": [
    "### 作業1：\n",
    "請上 Kaggle, 在 Competitions 或 Dataset 中找一組競賽或資料並寫下：\n",
    "\n",
    "Q1. 你選的這組資料為何重要？  \n",
    "A1. 我挑選的這組資料 https://www.kaggle.com/broach/button-tone-sz 是思覺失調症(schizophrenia)病人與健康對照組在進行簡單快速的基礎知覺作業時之腦電波訊號資料。\n",
    "精神或神經疾病的確診，一直是醫療上的難題，需要專業醫師的長時間追蹤，且需結合多種認知測試及專業施測人員的評估。目前研究人員努力利用客觀的生理量化指標(如腦波訊號)，結合人工智慧技術，開發思覺失調症的腦波輔助診斷系統(EEG-based computer-aided diagnosis, CAD)以辨識是否患病、嚴重度/階段、前後療效。這對精神/神經疾病之早期診斷、早期介入、早期治療均極其重要。\n",
    "\n",
    "Q2. 資料從何而來 (tips: 譬如提供者是誰、以什麼方式蒐集)？  \n",
    "A2: 資料由 Mental Health Service, San Francisco及 Department of Psychiatry, UCSF研究團隊之Brian Roach所提供。資料以全腦64顆電極(64-channel)腦電波帽紀錄。此資料已取得CC BY-NC-SA 4.0的授權。\n",
    "\n",
    "Q3. 蒐集而來的資料型態為何？  \n",
    "A3: 蒐集而來的資料為腦電波時序訊號(time-series EEG signal)，資料型態為每一位受試者、每一種實驗情境(condition)、每一個測試(trial)的事件相關電位(event-related potentials, ERPs)均有一筆[channels x time-series sample points]的數值矩陣。作者已將其轉為csv格式儲存。\n",
    "\n",
    "Q4. 這組資料想解決的問題如何評估？  \n",
    "A4: 這組81人的資料可用以開發思覺失調症患者輔助診斷系統，因此關鍵目標為Classification的正確率(分類為患者or健康人)。評估指標可包含 accuracy, recall (sensitivity = true positive rate), specificity, false positive rate (1-specificity), precision (positive predictive value), F1-score等。  \n"
   ]
  },
  {
   "cell_type": "markdown",
   "metadata": {},
   "source": [
    "### 作業2：\n",
    "\n",
    "想像你經營一個自由載客車隊，你希望能透過數據分析以提升業績，請你思考並描述你如何規劃整體的分析/解決方案：\n",
    "\n",
    "Q1. 核心問題為何 (tips：如何定義 「提升業績 & 你的假設」)  \n",
    "A1: 核心目標為：透過數據分析，提升自由載客車隊業績。Stakeholders包含「司機端」、「乘客端」、「車隊平台端」。  \n",
    "提升業績的操作型定義可設為：相同時間區段(如15分鐘duration)顧客端的hits、最終成交數\n",
    "\n",
    "Q2. 資料從何而來   \n",
    "A2: 資料將透過app叫車平台蒐集\n",
    "\n",
    "Q3. 蒐集而來的資料型態為何  \n",
    "A3: 蒐集而來的資料型態為csv，為匯入資料庫的數值(金額、距離、成交次數等)型態\n",
    "\n",
    "Q4. 你要回答的問題，其如何評估  \n",
    "A4: 透過總營業額(乘客端車資)-司機端支出-優惠折扣-app平台營運維持費=總淨利"
   ]
  },
  {
   "cell_type": "markdown",
   "metadata": {},
   "source": [
    "### 作業3：\n",
    "\n",
    "請點選下方檢視範例依照 Day_001_example_of_metrics.ipynb 完成 Mean Squared Error 的函式\n",
    "\n",
    "資料夾結構建立規則提醒：ML100 > data資料夾 & homework資料夾 (ipynb檔) \n",
    "\n",
    "(請注意data的存放位置，建議放在*.ipynb 同一個目錄下，這樣才能在不修改code的情況下正常執行)"
   ]
  },
  {
   "cell_type": "markdown",
   "metadata": {},
   "source": [
    "## 練習時間\n",
    "#### 請寫一個函式用來計算 Mean Square Error\n",
    "$ MSE = \\frac{1}{n}\\sum_{i=1}^{n}{(Y_i - \\hat{Y}_i)^2} $\n",
    "\n",
    "### Hint: [如何取平方](https://googoodesign.gitbooks.io/-ezpython/unit-1.html)"
   ]
  },
  {
   "cell_type": "code",
   "execution_count": 2,
   "metadata": {},
   "outputs": [],
   "source": [
    "import numpy as np\n",
    "import matplotlib.pyplot as plt"
   ]
  },
  {
   "cell_type": "code",
   "execution_count": 3,
   "metadata": {},
   "outputs": [],
   "source": [
    "def mean_absolute_error(y, y_hat):\n",
    "    \"\"\"\n",
    "    mean_absolute_error = mean of the absolute differences between data (y) and expected y (y hat)\n",
    "    \n",
    "    Args:\n",
    "        y: actual data\n",
    "        y_hat: expected data = predicted data\n",
    "        \n",
    "    Return:\n",
    "        mae\n",
    "    \"\"\"\n",
    "    \n",
    "    mae = sum(abs(y - y_hat)) / len(y)\n",
    "    return mae"
   ]
  },
  {
   "cell_type": "code",
   "execution_count": 4,
   "metadata": {},
   "outputs": [],
   "source": [
    "def mean_squared_error(y, y_hat):\n",
    "    \"\"\"\n",
    "    mean_squared_error = mean of the square of differences between data (y) and expected y (y hat)\n",
    "    \n",
    "    Args: \n",
    "        y: actual data\n",
    "        y_hat: expected data = predicted data\n",
    "        \n",
    "    Return:\n",
    "        mse\n",
    "    \"\"\"\n",
    "    mse = sum((y - y_hat)**2) / len(y)\n",
    "    return mse"
   ]
  },
  {
   "cell_type": "code",
   "execution_count": 5,
   "metadata": {
    "scrolled": true
   },
   "outputs": [
    {
     "data": {
      "image/png": "[encoded data removed]",
      "text/plain": [
       "<Figure size 432x288 with 1 Axes>"
      ]
     },
     "metadata": {},
     "output_type": "display_data"
    }
   ],
   "source": [
    "w = 10     # weight; in linear equation y=ax+b, a=slope=w\n",
    "b = 1      # bias; in linear equation y=ax+b, b=intercept\n",
    "\n",
    "start = 0\n",
    "stop = 200\n",
    "n = 50     # num of evenly spaced samples\n",
    "x_lin = np.linspace(start, stop, n)  # (linspace(start,stop,num of evenly spaced samples))\n",
    "\n",
    "y = (x_lin + np.random.randn(n) * 10) * w + b\n",
    "\n",
    "plt.plot(x_lin, y, 'r*', label = 'sample points')\n",
    "plt.title(\"Assume we have sample points\")\n",
    "plt.legend(loc = 4)\n",
    "plt.show()"
   ]
  },
  {
   "cell_type": "code",
   "execution_count": 6,
   "metadata": {
    "scrolled": true
   },
   "outputs": [
    {
     "data": {
      "image/png": "[encoded data removed]",
      "text/plain": [
       "<Figure size 432x288 with 1 Axes>"
      ]
     },
     "metadata": {},
     "output_type": "display_data"
    }
   ],
   "source": [
    "y_hat = x_lin * w + b\n",
    "plt.plot(x_lin, y, 'b.', label = 'data')\n",
    "plt.plot(x_lin, y_hat, 'r-', label = 'prediction')\n",
    "plt.title(\"Assume we have data points (And the prediction)\")\n",
    "plt.legend(loc = 2)\n",
    "plt.show()"
   ]
  },
  {
   "cell_type": "code",
   "execution_count": 7,
   "metadata": {},
   "outputs": [
    {
     "data": {
      "text/plain": [
       "array([ 3.86649134e+01, -7.08928582e+00,  3.39587714e+02,  6.04239989e+01,\n",
       "        1.03705583e+00,  1.25340176e+02,  4.41364223e+02,  4.32542081e+02,\n",
       "        4.25718888e+02,  3.66441076e+02,  5.39606314e+02,  2.93741106e+02,\n",
       "        5.70004524e+02,  4.55341606e+02,  7.50679982e+02,  6.79779229e+02,\n",
       "        6.16637178e+02,  6.22295393e+02,  9.08315064e+02,  5.99387544e+02,\n",
       "        7.07549706e+02,  6.46464224e+02,  8.91587635e+02,  8.79061337e+02,\n",
       "        1.06016917e+03,  1.21266942e+03,  9.74678647e+02,  1.29317268e+03,\n",
       "        1.26209149e+03,  1.06504210e+03,  1.27969860e+03,  1.21046950e+03,\n",
       "        1.30212516e+03,  1.29446127e+03,  1.45206606e+03,  1.41368987e+03,\n",
       "        1.58358535e+03,  1.39573976e+03,  1.47154153e+03,  1.42894997e+03,\n",
       "        1.50337051e+03,  1.84891100e+03,  1.67947543e+03,  1.79393171e+03,\n",
       "        1.82394971e+03,  2.02216551e+03,  1.81304045e+03,  1.94803348e+03,\n",
       "        1.99941559e+03,  1.97035711e+03])"
      ]
     },
     "execution_count": 7,
     "metadata": {},
     "output_type": "execute_result"
    }
   ],
   "source": [
    "y"
   ]
  },
  {
   "cell_type": "code",
   "execution_count": 8,
   "metadata": {},
   "outputs": [
    {
     "data": {
      "text/plain": [
       "array([1.00000000e+00, 4.18163265e+01, 8.26326531e+01, 1.23448980e+02,\n",
       "       1.64265306e+02, 2.05081633e+02, 2.45897959e+02, 2.86714286e+02,\n",
       "       3.27530612e+02, 3.68346939e+02, 4.09163265e+02, 4.49979592e+02,\n",
       "       4.90795918e+02, 5.31612245e+02, 5.72428571e+02, 6.13244898e+02,\n",
       "       6.54061224e+02, 6.94877551e+02, 7.35693878e+02, 7.76510204e+02,\n",
       "       8.17326531e+02, 8.58142857e+02, 8.98959184e+02, 9.39775510e+02,\n",
       "       9.80591837e+02, 1.02140816e+03, 1.06222449e+03, 1.10304082e+03,\n",
       "       1.14385714e+03, 1.18467347e+03, 1.22548980e+03, 1.26630612e+03,\n",
       "       1.30712245e+03, 1.34793878e+03, 1.38875510e+03, 1.42957143e+03,\n",
       "       1.47038776e+03, 1.51120408e+03, 1.55202041e+03, 1.59283673e+03,\n",
       "       1.63365306e+03, 1.67446939e+03, 1.71528571e+03, 1.75610204e+03,\n",
       "       1.79691837e+03, 1.83773469e+03, 1.87855102e+03, 1.91936735e+03,\n",
       "       1.96018367e+03, 2.00100000e+03])"
      ]
     },
     "execution_count": 8,
     "metadata": {},
     "output_type": "execute_result"
    }
   ],
   "source": [
    "y_hat"
   ]
  },
  {
   "cell_type": "code",
   "execution_count": 9,
   "metadata": {},
   "outputs": [
    {
     "name": "stdout",
     "output_type": "stream",
     "text": [
      "The Mean squared error is 13484.795\n",
      "The Mean absolute error is 97.763\n"
     ]
    }
   ],
   "source": [
    "#執行 Function, 確認有沒有正常執行\n",
    "MSE = mean_squared_error(y, y_hat)\n",
    "MAE = mean_absolute_error(y, y_hat)\n",
    "print(\"The Mean squared error is %.3f\" % (MSE))\n",
    "print(\"The Mean absolute error is %.3f\" % (MAE))"
   ]
  }
 ],
 "metadata": {
  "anaconda-cloud": {},
  "kernelspec": {
   "display_name": "Python 3",
   "language": "python",
   "name": "python3"
  },
  "language_info": {
   "codemirror_mode": {
    "name": "ipython",
    "version": 3
   },
   "file_extension": ".py",
   "mimetype": "text/x-python",
   "name": "python",
   "nbconvert_exporter": "python",
   "pygments_lexer": "ipython3",
   "version": "3.6.5"
  }
 },
 "nbformat": 4,
 "nbformat_minor": 1
}
